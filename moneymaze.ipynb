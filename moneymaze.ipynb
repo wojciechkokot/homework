{
 "cells": [
  {
   "cell_type": "code",
   "execution_count": 1,
   "metadata": {},
   "outputs": [],
   "source": [
    "import logging\n",
    "logging.getLogger().setLevel(logging.INFO)"
   ]
  },
  {
   "cell_type": "code",
   "execution_count": 2,
   "metadata": {},
   "outputs": [],
   "source": [
    "MAZE = (\n",
    "    (100,    -10,  150, -50),\n",
    "    (-50, 'x1.5',  -20, 120),\n",
    "    ( 10,    -50, 'x2',  20),\n",
    "    (-10,     20,  -10,  30)\n",
    ")\n",
    "\n",
    "WALLS = (\n",
    "    ((2,0), (2,1)),\n",
    "    ((0,1), (1,1)),\n",
    "    ((1,2), (1,3)),\n",
    "    ((2,2), (3,2)),\n",
    ")"
   ]
  },
  {
   "cell_type": "code",
   "execution_count": 3,
   "metadata": {},
   "outputs": [],
   "source": [
    "def is_valid(start, end):\n",
    "    if start[0] < 0 or start[1] < 0 or end[0] < 0 or end[1] < 0:\n",
    "        logging.debug('coord <0')\n",
    "        return False\n",
    "    if start[0] >= len(MAZE[0]) or end[0] >= len(MAZE[0]):\n",
    "        logging.debug('0 coord >= %s', len(MAZE[0]))\n",
    "        return False\n",
    "    if start[1] >= len(MAZE) or end[1] >= len(MAZE):\n",
    "        logging.debug('1 coord >= %s', len(MAZE))\n",
    "        return False\n",
    "\n",
    "    d0 = abs(start[0]-end[0])\n",
    "    d1 = abs(start[1]-end[1])\n",
    "\n",
    "    if d0 > 1 or d1 > 1:\n",
    "        return False\n",
    "    if d0 + d1 != 1:\n",
    "        return False\n",
    "\n",
    "    for c1, c2 in WALLS:\n",
    "        if start == c1 and end == c2:\n",
    "            return False\n",
    "        if start == c2 and end == c1:\n",
    "            return False\n",
    "    return True\n"
   ]
  },
  {
   "cell_type": "code",
   "execution_count": 4,
   "metadata": {},
   "outputs": [],
   "source": [
    "def add_value(old_value, c):\n",
    "    v = MAZE[c[1]][c[0]]\n",
    "    if isinstance(v, int):\n",
    "        return old_value + v\n",
    "    assert v[0] == 'x'\n",
    "    return old_value * float(v[1:])\n"
   ]
  },
  {
   "cell_type": "code",
   "execution_count": 5,
   "metadata": {},
   "outputs": [],
   "source": [
    "def generate_paths(start, end):\n",
    "    \n",
    "    if not start:\n",
    "        start = (0,0)\n",
    "\n",
    "    if not end:\n",
    "        end = (3,3)\n",
    "\n",
    "    sum = add_value(0, start)\n",
    "\n",
    "    best = ()\n",
    "    worst = ()\n",
    "\n",
    "    for path, value in generate([start], end, sum):\n",
    "        logging.info('%s (%s steps) -> %s', path, len(path), value)\n",
    "\n",
    "        if not best or value > best[1]:\n",
    "            best = (path, value)\n",
    "\n",
    "        if not worst or value < worst[1]:\n",
    "            worst = (path, value)\n",
    "\n",
    "    logging.info('Best: %s via %s', best[1], best[0])\n",
    "\n",
    "    logging.info('Worst: %s via %s', worst[1], worst[0])\n"
   ]
  },
  {
   "cell_type": "code",
   "execution_count": 6,
   "metadata": {},
   "outputs": [],
   "source": [
    "def generate(path, end, sum):\n",
    "    current = path[-1]\n",
    "\n",
    "    if current == end:\n",
    "        yield path, sum\n",
    "\n",
    "    options = (\n",
    "        (current[0]+1, current[1]),\n",
    "        (current[0]-1, current[1]),\n",
    "        (current[0], current[1]+1),\n",
    "        (current[0], current[1]-1),\n",
    "    )\n",
    "\n",
    "    for option in options:\n",
    "        logging.debug('path: %s, option: %s', path, option)\n",
    "        if not is_valid(current, option):\n",
    "            continue\n",
    "        if option not in path:\n",
    "            for result in generate(path + [option], end, add_value(sum, option)):\n",
    "                yield result\n"
   ]
  },
  {
   "cell_type": "code",
   "execution_count": 7,
   "metadata": {},
   "outputs": [
    {
     "name": "stderr",
     "output_type": "stream",
     "text": [
      "INFO:root:[(0, 0), (1, 0), (2, 0), (3, 0), (3, 1), (2, 1), (1, 1), (1, 2), (2, 2), (2, 3), (3, 3)] (11 steps) -> 790.0\n",
      "INFO:root:[(0, 0), (1, 0), (2, 0), (3, 0), (3, 1), (2, 1), (1, 1), (1, 2), (0, 2), (0, 3), (1, 3), (2, 3), (3, 3)] (13 steps) -> 425.0\n",
      "INFO:root:[(0, 0), (1, 0), (2, 0), (3, 0), (3, 1), (2, 1), (2, 2), (1, 2), (0, 2), (0, 3), (1, 3), (2, 3), (3, 3)] (13 steps) -> 570.0\n",
      "INFO:root:[(0, 0), (1, 0), (2, 0), (3, 0), (3, 1), (2, 1), (2, 2), (2, 3), (3, 3)] (9 steps) -> 600.0\n",
      "INFO:root:[(0, 0), (1, 0), (2, 0), (3, 0), (3, 1), (3, 2), (3, 3)] (7 steps) -> 360\n",
      "INFO:root:[(0, 0), (1, 0), (1, 1), (2, 1), (3, 1), (3, 2), (3, 3)] (7 steps) -> 285.0\n",
      "INFO:root:[(0, 0), (1, 0), (1, 1), (2, 1), (2, 2), (1, 2), (0, 2), (0, 3), (1, 3), (2, 3), (3, 3)] (11 steps) -> 220.0\n",
      "INFO:root:[(0, 0), (1, 0), (1, 1), (2, 1), (2, 2), (2, 3), (3, 3)] (7 steps) -> 250.0\n",
      "INFO:root:[(0, 0), (1, 0), (1, 1), (1, 2), (2, 2), (2, 3), (3, 3)] (7 steps) -> 190.0\n",
      "INFO:root:[(0, 0), (1, 0), (1, 1), (1, 2), (2, 2), (2, 1), (3, 1), (3, 2), (3, 3)] (9 steps) -> 320.0\n",
      "INFO:root:[(0, 0), (1, 0), (1, 1), (1, 2), (0, 2), (0, 3), (1, 3), (2, 3), (3, 3)] (9 steps) -> 125.0\n",
      "INFO:root:[(0, 0), (1, 0), (1, 1), (1, 2), (0, 2), (0, 3), (1, 3), (2, 3), (2, 2), (2, 1), (3, 1), (3, 2), (3, 3)] (13 steps) -> 340.0\n",
      "INFO:root:[(0, 0), (0, 1), (0, 2), (1, 2), (2, 2), (2, 3), (3, 3)] (7 steps) -> 40.0\n",
      "INFO:root:[(0, 0), (0, 1), (0, 2), (1, 2), (2, 2), (2, 1), (3, 1), (3, 2), (3, 3)] (9 steps) -> 170.0\n",
      "INFO:root:[(0, 0), (0, 1), (0, 2), (1, 2), (2, 2), (2, 1), (1, 1), (1, 0), (2, 0), (3, 0), (3, 1), (3, 2), (3, 3)] (13 steps) -> 260.0\n",
      "INFO:root:[(0, 0), (0, 1), (0, 2), (1, 2), (1, 1), (2, 1), (3, 1), (3, 2), (3, 3)] (9 steps) -> 165.0\n",
      "INFO:root:[(0, 0), (0, 1), (0, 2), (1, 2), (1, 1), (2, 1), (2, 2), (2, 3), (3, 3)] (9 steps) -> 10.0\n",
      "INFO:root:[(0, 0), (0, 1), (0, 2), (1, 2), (1, 1), (1, 0), (2, 0), (3, 0), (3, 1), (2, 1), (2, 2), (2, 3), (3, 3)] (13 steps) -> 430.0\n",
      "INFO:root:[(0, 0), (0, 1), (0, 2), (1, 2), (1, 1), (1, 0), (2, 0), (3, 0), (3, 1), (3, 2), (3, 3)] (11 steps) -> 275.0\n",
      "INFO:root:[(0, 0), (0, 1), (0, 2), (0, 3), (1, 3), (2, 3), (3, 3)] (7 steps) -> 90\n",
      "INFO:root:[(0, 0), (0, 1), (0, 2), (0, 3), (1, 3), (2, 3), (2, 2), (1, 2), (1, 1), (2, 1), (3, 1), (3, 2), (3, 3)] (13 steps) -> 255.0\n",
      "INFO:root:[(0, 0), (0, 1), (0, 2), (0, 3), (1, 3), (2, 3), (2, 2), (1, 2), (1, 1), (1, 0), (2, 0), (3, 0), (3, 1), (3, 2), (3, 3)] (15 steps) -> 365.0\n",
      "INFO:root:[(0, 0), (0, 1), (0, 2), (0, 3), (1, 3), (2, 3), (2, 2), (2, 1), (3, 1), (3, 2), (3, 3)] (11 steps) -> 270.0\n",
      "INFO:root:[(0, 0), (0, 1), (0, 2), (0, 3), (1, 3), (2, 3), (2, 2), (2, 1), (1, 1), (1, 0), (2, 0), (3, 0), (3, 1), (3, 2), (3, 3)] (15 steps) -> 410.0\n",
      "INFO:root:Best: 790.0 via [(0, 0), (1, 0), (2, 0), (3, 0), (3, 1), (2, 1), (1, 1), (1, 2), (2, 2), (2, 3), (3, 3)]\n",
      "INFO:root:Worst: 10.0 via [(0, 0), (0, 1), (0, 2), (1, 2), (1, 1), (2, 1), (2, 2), (2, 3), (3, 3)]\n"
     ]
    }
   ],
   "source": [
    "generate_paths(None, None)"
   ]
  },
  {
   "cell_type": "code",
   "execution_count": null,
   "metadata": {},
   "outputs": [],
   "source": []
  }
 ],
 "metadata": {
  "kernelspec": {
   "display_name": "Python 3",
   "language": "python",
   "name": "python3"
  },
  "language_info": {
   "codemirror_mode": {
    "name": "ipython",
    "version": 3
   },
   "file_extension": ".py",
   "mimetype": "text/x-python",
   "name": "python",
   "nbconvert_exporter": "python",
   "pygments_lexer": "ipython3",
   "version": "3.7.2"
  }
 },
 "nbformat": 4,
 "nbformat_minor": 2
}
